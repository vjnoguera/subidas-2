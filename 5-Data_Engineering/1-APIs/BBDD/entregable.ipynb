{
 "cells": [
  {
   "cell_type": "code",
   "execution_count": null,
   "metadata": {},
   "outputs": [],
   "source": [
    "from datos_dummy import books\n",
    "import pandas as pd"
   ]
  },
  {
   "cell_type": "code",
   "execution_count": null,
   "metadata": {},
   "outputs": [],
   "source": [
    "app = Flask(__name__)\n",
    "app.config[\"DEBUG\"] = True"
   ]
  },
  {
   "cell_type": "code",
   "execution_count": null,
   "metadata": {},
   "outputs": [],
   "source": [
    "@app.route('/', methods=['GET'])\n",
    "def home():\n",
    "    return \"<h1>Distant Reading Archive</h1><p>This site is a prototype API for distant reading of science fiction novels.</p>\"\n",
    "\n",
    "# 1.Ruta para obtener todos los libros\n",
    "@app.route('/api/v0/resources/books/all', methods=['GET'])\n",
    "def get_all():\n",
    "    return jsonify(books) # jsonify nos hace que la respuesta sea bonita, y no una lista fea\n",
    "\n",
    "# 2.Ruta para obtener un libro concreto mediante su id como parámetro en la llamada\n",
    "@app.route('/api/v0/resources/book', methods=['GET'])\n",
    "def book_id():\n",
    "    results = []\n",
    "    if 'id' in request.args:\n",
    "        id = int(request.args['id'])\n",
    "        for book in books:\n",
    "            if book['id']==id:\n",
    "                results.append(book)\n",
    "        if results == []:\n",
    "            return \"Book not found with the id requested\"    \n",
    "        else:\n",
    "            return jsonify(results)\n",
    "    else:\n",
    "        return \"No id field provided\""
   ]
  },
  {
   "cell_type": "code",
   "execution_count": null,
   "metadata": {},
   "outputs": [],
   "source": []
  },
  {
   "cell_type": "code",
   "execution_count": null,
   "metadata": {},
   "outputs": [],
   "source": []
  },
  {
   "cell_type": "code",
   "execution_count": null,
   "metadata": {},
   "outputs": [],
   "source": []
  }
 ],
 "metadata": {
  "language_info": {
   "name": "python"
  }
 },
 "nbformat": 4,
 "nbformat_minor": 2
}
