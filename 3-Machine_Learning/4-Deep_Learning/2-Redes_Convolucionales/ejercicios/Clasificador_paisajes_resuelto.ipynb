{
 "cells": [
  {
   "cell_type": "markdown",
   "metadata": {},
   "source": [
    "# Clasificador paisajes\n",
    "Para este ejercicio vas a crear un clasificador automático de paisajes. Los datos los encontrarás en el Classroom como `seg_train.zip` y `seg_test.zip`. Se pide:\n",
    "1. Cargar las imágenes. Mira cómo están almacenados los datos. Tendrás que recorrer las carpetas, cargar las imágenes en memoria y etiquetarlas con los nombres de las carpetas. Realiza un reshape de cada imagen (comienza el ejercicio con 32x32, para ir más rápido en las ejecuciones).\n",
    "2. Investiga las imágenes, comprueba con algunas muestras que has cargado bien los datos.\n",
    "3. Normaliza\n",
    "4. Diseña la arquitectura de la red. Recuerda que es un algiritmo de clasificación. Ojo con las dimensiones de la entrada\n",
    "5. Reserva un 20% de los datos del entrenamiento para validar.\n",
    "6. Representa el objeto history\n",
    "7. Evalua el modelo con los datos de test\n",
    "8. Representa algunos de los paisajes donde el modelo comete errores\n",
    "9. Crea una matriz de confusión con los errores del modelo\n",
    "\n",
    "**NOTA apartado 1**: para el apartado 1 tendras que recorre las carpetas/imagenes con `os.listdir()`, e ir cargando todas las imagenes como arrays de numpy\n",
    "\n",
    "**NOTA apartado 4**: empieza con un par de capas Conv2D + MaxPooling2D con activación relu y después la fully connected layer. on softmax como ultima capa"
   ]
  },
  {
   "cell_type": "code",
   "execution_count": 4,
   "metadata": {},
   "outputs": [
    {
     "name": "stdout",
     "output_type": "stream",
     "text": [
      "Requirement already satisfied: opencv-python in c:\\users\\victor\\miniconda3\\envs\\dl_env\\lib\\site-packages (4.9.0.80)\n",
      "Requirement already satisfied: numpy>=1.21.2 in c:\\users\\victor\\miniconda3\\envs\\dl_env\\lib\\site-packages (from opencv-python) (1.26.4)\n",
      "Note: you may need to restart the kernel to use updated packages.\n"
     ]
    }
   ],
   "source": [
    "pip install opencv-python"
   ]
  },
  {
   "cell_type": "code",
   "execution_count": 5,
   "metadata": {},
   "outputs": [],
   "source": [
    "import numpy as np\n",
    "import pandas as pd\n",
    "import os\n",
    "import matplotlib.pyplot as plt\n",
    "import cv2\n",
    "import tensorflow as tf\n",
    "import keras"
   ]
  },
  {
   "cell_type": "code",
   "execution_count": 6,
   "metadata": {},
   "outputs": [],
   "source": [
    "class_names = ['mountain','street','glacier', 'buildings','sea','forest']\n",
    "\n",
    "IMAGE_SIZE = (32,32)"
   ]
  },
  {
   "cell_type": "code",
   "execution_count": 7,
   "metadata": {},
   "outputs": [
    {
     "data": {
      "text/plain": [
       "{'mountain': 0,\n",
       " 'street': 1,\n",
       " 'glacier': 2,\n",
       " 'buildings': 3,\n",
       " 'sea': 4,\n",
       " 'forest': 5}"
      ]
     },
     "execution_count": 7,
     "metadata": {},
     "output_type": "execute_result"
    }
   ],
   "source": [
    "#Pasar las clases de string a numeros del 1 al 5\n",
    "class_names_label = {class_name:i for i ,class_name in enumerate(class_names)}\n",
    "class_names_label"
   ]
  },
  {
   "cell_type": "code",
   "execution_count": 8,
   "metadata": {},
   "outputs": [],
   "source": [
    "TRAIN_PATH = r\"C:\\Users\\Victor\\Desktop\\Data2 - copia\\3-Machine_Learning\\4-Deep_Learning\\2-Redes_Convolucionales\\ejercicios\\seg_train\\seg_train\"\n",
    "TEST_PATH = r\"C:\\Users\\Victor\\Desktop\\Data2 - copia\\3-Machine_Learning\\4-Deep_Learning\\2-Redes_Convolucionales\\ejercicios\\seg_test\\seg_test\""
   ]
  },
  {
   "cell_type": "code",
   "execution_count": 9,
   "metadata": {},
   "outputs": [
    {
     "name": "stdout",
     "output_type": "stream",
     "text": [
      "(14034, 32, 32, 3)\n",
      "(3000, 32, 32, 3)\n"
     ]
    }
   ],
   "source": [
    "def read_data(path, im_size, class_names_label):\n",
    "    X = []\n",
    "    y = []\n",
    "\n",
    "    for folder in os.listdir(path):\n",
    "        label = class_names_label[folder]\n",
    "        folder_path = os.path.join(path,folder)\n",
    "        # Iterar sobre todo lo que haya en path\n",
    "        for file in os.listdir(folder_path):\n",
    "            image_path = os.path.join(folder_path,file)\n",
    "            image = cv2.imread(image_path)\n",
    "            image = cv2.cvtColor(image, cv2.COLOR_BGR2RGB)\n",
    "            image = cv2.resize(image, im_size)\n",
    "            X.append(image)\n",
    "            y.append(label)\n",
    "    \n",
    "    \n",
    "    return np.array(X), np.array(y)\n",
    "    \n",
    "\n",
    "X_train, y_train = read_data(TRAIN_PATH, IMAGE_SIZE, class_names_label)\n",
    "X_test, y_test = read_data(TEST_PATH, IMAGE_SIZE, class_names_label)\n",
    "\n",
    "print(X_train.shape)\n",
    "print(X_test.shape)"
   ]
  },
  {
   "cell_type": "code",
   "execution_count": 10,
   "metadata": {},
   "outputs": [
    {
     "name": "stdout",
     "output_type": "stream",
     "text": [
      "(14034,)\n",
      "(3000,)\n"
     ]
    }
   ],
   "source": [
    "print(y_train.shape)\n",
    "print(y_test.shape)"
   ]
  },
  {
   "cell_type": "code",
   "execution_count": 11,
   "metadata": {},
   "outputs": [
    {
     "data": {
      "text/plain": [
       "array([3, 3, 3, ..., 1, 1, 1])"
      ]
     },
     "execution_count": 11,
     "metadata": {},
     "output_type": "execute_result"
    }
   ],
   "source": [
    "y_train"
   ]
  },
  {
   "cell_type": "code",
   "execution_count": 12,
   "metadata": {},
   "outputs": [],
   "source": [
    "from sklearn.utils import shuffle\n",
    "\n",
    "X_train, y_train = shuffle(X_train, y_train, random_state=42)"
   ]
  },
  {
   "cell_type": "code",
   "execution_count": 13,
   "metadata": {},
   "outputs": [
    {
     "data": {
      "text/plain": [
       "array([3, 1, 1, 4, 0, 2, 0, 0, 3, 1])"
      ]
     },
     "execution_count": 13,
     "metadata": {},
     "output_type": "execute_result"
    }
   ],
   "source": [
    "y_train[0:10]"
   ]
  },
  {
   "cell_type": "code",
   "execution_count": 14,
   "metadata": {},
   "outputs": [
    {
     "data": {
      "text/plain": [
       "0\n",
       "0    2512\n",
       "2    2404\n",
       "1    2382\n",
       "4    2274\n",
       "5    2271\n",
       "3    2191\n",
       "Name: count, dtype: int64"
      ]
     },
     "execution_count": 14,
     "metadata": {},
     "output_type": "execute_result"
    }
   ],
   "source": [
    "pd.DataFrame(y_train).value_counts()"
   ]
  },
  {
   "cell_type": "code",
   "execution_count": 15,
   "metadata": {},
   "outputs": [
    {
     "data": {
      "text/plain": [
       "255"
      ]
     },
     "execution_count": 15,
     "metadata": {},
     "output_type": "execute_result"
    }
   ],
   "source": [
    "X_train.max()"
   ]
  },
  {
   "cell_type": "code",
   "execution_count": 16,
   "metadata": {},
   "outputs": [
    {
     "name": "stdout",
     "output_type": "stream",
     "text": [
      "glacier\n"
     ]
    },
    {
     "data": {
      "image/png": "[encoded data removed]",
      "text/plain": [
       "<Figure size 640x480 with 1 Axes>"
      ]
     },
     "metadata": {},
     "output_type": "display_data"
    }
   ],
   "source": [
    "index = np.random.randint(X_train.shape[0])\n",
    "print(class_names[y_train[index]])\n",
    "plt.imshow(X_train[index]);"
   ]
  },
  {
   "cell_type": "code",
   "execution_count": 17,
   "metadata": {},
   "outputs": [
    {
     "data": {
      "text/plain": [
       "255"
      ]
     },
     "execution_count": 17,
     "metadata": {},
     "output_type": "execute_result"
    }
   ],
   "source": [
    "X_train.max()"
   ]
  },
  {
   "cell_type": "code",
   "execution_count": 18,
   "metadata": {},
   "outputs": [],
   "source": [
    "#Escalamos las imagenes\n",
    "X_train_scal = X_train/255\n",
    "X_test_scal = X_test/255"
   ]
  },
  {
   "cell_type": "code",
   "execution_count": 19,
   "metadata": {},
   "outputs": [
    {
     "data": {
      "text/plain": [
       "(32, 32)"
      ]
     },
     "execution_count": 19,
     "metadata": {},
     "output_type": "execute_result"
    }
   ],
   "source": [
    "IMAGE_SIZE"
   ]
  },
  {
   "cell_type": "code",
   "execution_count": 20,
   "metadata": {},
   "outputs": [
    {
     "data": {
      "text/plain": [
       "(14034, 32, 32, 3)"
      ]
     },
     "execution_count": 20,
     "metadata": {},
     "output_type": "execute_result"
    }
   ],
   "source": [
    "X_train_scal.shape"
   ]
  },
  {
   "cell_type": "code",
   "execution_count": 21,
   "metadata": {},
   "outputs": [
    {
     "data": {
      "text/plain": [
       "(3000, 32, 32, 3)"
      ]
     },
     "execution_count": 21,
     "metadata": {},
     "output_type": "execute_result"
    }
   ],
   "source": [
    "X_test_scal.shape"
   ]
  },
  {
   "cell_type": "code",
   "execution_count": 22,
   "metadata": {},
   "outputs": [],
   "source": [
    "#Miramos si el shape es bueno\n"
   ]
  },
  {
   "cell_type": "code",
   "execution_count": 23,
   "metadata": {},
   "outputs": [],
   "source": [
    "#Queremos hacer un modelo de una conv de 32 y otra de 64, ambas de (3,3) y con activacion relu, el imput_shape es (IMAGE_SIZE[0],IMAGE_SIZE[1],3)\n",
    "#ambas con un maxpooling (2,2) y despues dos densas, la primera de 128 con activacion relu y la ultima de 6 osn softmax\n"
   ]
  },
  {
   "cell_type": "code",
   "execution_count": 24,
   "metadata": {},
   "outputs": [],
   "source": [
    "model = keras.models.Sequential() # Instanciamos el modelo\n",
    "model.add(keras.layers.Input(shape=(IMAGE_SIZE[0],IMAGE_SIZE[1],3))) # Primera Pseudo-capa -> de matriz a array\n",
    "model.add(keras.layers.Conv2D(filters=32,kernel_size=3,strides=1,padding=\"same\",activation=\"relu\")) # Primera Pseudo-capa -> de matriz a array\n",
    "model.add(keras.layers.MaxPool2D(2,2))\n",
    "model.add(keras.layers.Dropout(0.3))\n",
    "model.add(keras.layers.Conv2D(filters=64,kernel_size=3,strides=1,padding=\"same\",activation=\"relu\"))\n",
    "model.add(keras.layers.MaxPool2D(2,2))\n",
    "model.add(keras.layers.Dropout(0.3))\n",
    "model.add(keras.layers.Flatten())\n",
    "model.add(keras.layers.Dense(128,activation=\"relu\"))\n",
    "model.add(keras.layers.Dense(units=6,activation=\"softmax\"))\n",
    "\n",
    "model.compile(\n",
    "        optimizer = \"adam\",\n",
    "        loss = \"sparse_categorical_crossentropy\",\n",
    "        metrics = [\"accuracy\"]\n",
    ")\n"
   ]
  },
  {
   "cell_type": "code",
   "execution_count": 25,
   "metadata": {},
   "outputs": [
    {
     "data": {
      "text/plain": [
       "896"
      ]
     },
     "execution_count": 25,
     "metadata": {},
     "output_type": "execute_result"
    }
   ],
   "source": [
    "# Primera capa conv\n",
    "# 3 porque tenemos 3 capas RGB\n",
    "# 32 porque hemos elegido en esta capa de convolución hacer 32 filtros\n",
    "# 3*3 porque en cada filtro tenemos una matriz de 3*3 pixeles\n",
    "# 32 bias\n",
    "3*32*3*3 + 32"
   ]
  },
  {
   "cell_type": "code",
   "execution_count": 26,
   "metadata": {},
   "outputs": [
    {
     "data": {
      "text/plain": [
       "18496"
      ]
     },
     "execution_count": 26,
     "metadata": {},
     "output_type": "execute_result"
    }
   ],
   "source": [
    "# Segunda capa conv\n",
    "# 32 porque tenemos 32 filtros en el output de la anterior capa\n",
    "# 64 porque hemos elegido en esta capa de convolución hacer 64 filtros\n",
    "# 3*3 porque en cada filtro tenemos una matriz de 3*3 pixeles\n",
    "# 64 bias\n",
    "32*64*3*3 + 64"
   ]
  },
  {
   "cell_type": "code",
   "execution_count": 27,
   "metadata": {},
   "outputs": [
    {
     "data": {
      "text/plain": [
       "295040"
      ]
     },
     "execution_count": 27,
     "metadata": {},
     "output_type": "execute_result"
    }
   ],
   "source": [
    "2304*128 + 128"
   ]
  },
  {
   "cell_type": "code",
   "execution_count": 28,
   "metadata": {},
   "outputs": [
    {
     "data": {
      "text/html": [
       "<pre style=\"white-space:pre;overflow-x:auto;line-height:normal;font-family:Menlo,'DejaVu Sans Mono',consolas,'Courier New',monospace\"><span style=\"font-weight: bold\">Model: \"sequential\"</span>\n",
       "</pre>\n"
      ],
      "text/plain": [
       "\u001b[1mModel: \"sequential\"\u001b[0m\n"
      ]
     },
     "metadata": {},
     "output_type": "display_data"
    },
    {
     "data": {
      "text/html": [
       "<pre style=\"white-space:pre;overflow-x:auto;line-height:normal;font-family:Menlo,'DejaVu Sans Mono',consolas,'Courier New',monospace\">┏━━━━━━━━━━━━━━━━━━━━━━━━━━━━━━━━━┳━━━━━━━━━━━━━━━━━━━━━━━━┳━━━━━━━━━━━━━━━┓\n",
       "┃<span style=\"font-weight: bold\"> Layer (type)                    </span>┃<span style=\"font-weight: bold\"> Output Shape           </span>┃<span style=\"font-weight: bold\">       Param # </span>┃\n",
       "┡━━━━━━━━━━━━━━━━━━━━━━━━━━━━━━━━━╇━━━━━━━━━━━━━━━━━━━━━━━━╇━━━━━━━━━━━━━━━┩\n",
       "│ conv2d (<span style=\"color: #0087ff; text-decoration-color: #0087ff\">Conv2D</span>)                 │ (<span style=\"color: #00d7ff; text-decoration-color: #00d7ff\">None</span>, <span style=\"color: #00af00; text-decoration-color: #00af00\">32</span>, <span style=\"color: #00af00; text-decoration-color: #00af00\">32</span>, <span style=\"color: #00af00; text-decoration-color: #00af00\">32</span>)     │           <span style=\"color: #00af00; text-decoration-color: #00af00\">896</span> │\n",
       "├─────────────────────────────────┼────────────────────────┼───────────────┤\n",
       "│ max_pooling2d (<span style=\"color: #0087ff; text-decoration-color: #0087ff\">MaxPooling2D</span>)    │ (<span style=\"color: #00d7ff; text-decoration-color: #00d7ff\">None</span>, <span style=\"color: #00af00; text-decoration-color: #00af00\">16</span>, <span style=\"color: #00af00; text-decoration-color: #00af00\">16</span>, <span style=\"color: #00af00; text-decoration-color: #00af00\">32</span>)     │             <span style=\"color: #00af00; text-decoration-color: #00af00\">0</span> │\n",
       "├─────────────────────────────────┼────────────────────────┼───────────────┤\n",
       "│ dropout (<span style=\"color: #0087ff; text-decoration-color: #0087ff\">Dropout</span>)               │ (<span style=\"color: #00d7ff; text-decoration-color: #00d7ff\">None</span>, <span style=\"color: #00af00; text-decoration-color: #00af00\">16</span>, <span style=\"color: #00af00; text-decoration-color: #00af00\">16</span>, <span style=\"color: #00af00; text-decoration-color: #00af00\">32</span>)     │             <span style=\"color: #00af00; text-decoration-color: #00af00\">0</span> │\n",
       "├─────────────────────────────────┼────────────────────────┼───────────────┤\n",
       "│ conv2d_1 (<span style=\"color: #0087ff; text-decoration-color: #0087ff\">Conv2D</span>)               │ (<span style=\"color: #00d7ff; text-decoration-color: #00d7ff\">None</span>, <span style=\"color: #00af00; text-decoration-color: #00af00\">16</span>, <span style=\"color: #00af00; text-decoration-color: #00af00\">16</span>, <span style=\"color: #00af00; text-decoration-color: #00af00\">64</span>)     │        <span style=\"color: #00af00; text-decoration-color: #00af00\">18,496</span> │\n",
       "├─────────────────────────────────┼────────────────────────┼───────────────┤\n",
       "│ max_pooling2d_1 (<span style=\"color: #0087ff; text-decoration-color: #0087ff\">MaxPooling2D</span>)  │ (<span style=\"color: #00d7ff; text-decoration-color: #00d7ff\">None</span>, <span style=\"color: #00af00; text-decoration-color: #00af00\">8</span>, <span style=\"color: #00af00; text-decoration-color: #00af00\">8</span>, <span style=\"color: #00af00; text-decoration-color: #00af00\">64</span>)       │             <span style=\"color: #00af00; text-decoration-color: #00af00\">0</span> │\n",
       "├─────────────────────────────────┼────────────────────────┼───────────────┤\n",
       "│ dropout_1 (<span style=\"color: #0087ff; text-decoration-color: #0087ff\">Dropout</span>)             │ (<span style=\"color: #00d7ff; text-decoration-color: #00d7ff\">None</span>, <span style=\"color: #00af00; text-decoration-color: #00af00\">8</span>, <span style=\"color: #00af00; text-decoration-color: #00af00\">8</span>, <span style=\"color: #00af00; text-decoration-color: #00af00\">64</span>)       │             <span style=\"color: #00af00; text-decoration-color: #00af00\">0</span> │\n",
       "├─────────────────────────────────┼────────────────────────┼───────────────┤\n",
       "│ flatten (<span style=\"color: #0087ff; text-decoration-color: #0087ff\">Flatten</span>)               │ (<span style=\"color: #00d7ff; text-decoration-color: #00d7ff\">None</span>, <span style=\"color: #00af00; text-decoration-color: #00af00\">4096</span>)           │             <span style=\"color: #00af00; text-decoration-color: #00af00\">0</span> │\n",
       "├─────────────────────────────────┼────────────────────────┼───────────────┤\n",
       "│ dense (<span style=\"color: #0087ff; text-decoration-color: #0087ff\">Dense</span>)                   │ (<span style=\"color: #00d7ff; text-decoration-color: #00d7ff\">None</span>, <span style=\"color: #00af00; text-decoration-color: #00af00\">128</span>)            │       <span style=\"color: #00af00; text-decoration-color: #00af00\">524,416</span> │\n",
       "├─────────────────────────────────┼────────────────────────┼───────────────┤\n",
       "│ dense_1 (<span style=\"color: #0087ff; text-decoration-color: #0087ff\">Dense</span>)                 │ (<span style=\"color: #00d7ff; text-decoration-color: #00d7ff\">None</span>, <span style=\"color: #00af00; text-decoration-color: #00af00\">6</span>)              │           <span style=\"color: #00af00; text-decoration-color: #00af00\">774</span> │\n",
       "└─────────────────────────────────┴────────────────────────┴───────────────┘\n",
       "</pre>\n"
      ],
      "text/plain": [
       "┏━━━━━━━━━━━━━━━━━━━━━━━━━━━━━━━━━┳━━━━━━━━━━━━━━━━━━━━━━━━┳━━━━━━━━━━━━━━━┓\n",
       "┃\u001b[1m \u001b[0m\u001b[1mLayer (type)                   \u001b[0m\u001b[1m \u001b[0m┃\u001b[1m \u001b[0m\u001b[1mOutput Shape          \u001b[0m\u001b[1m \u001b[0m┃\u001b[1m \u001b[0m\u001b[1m      Param #\u001b[0m\u001b[1m \u001b[0m┃\n",
       "┡━━━━━━━━━━━━━━━━━━━━━━━━━━━━━━━━━╇━━━━━━━━━━━━━━━━━━━━━━━━╇━━━━━━━━━━━━━━━┩\n",
       "│ conv2d (\u001b[38;5;33mConv2D\u001b[0m)                 │ (\u001b[38;5;45mNone\u001b[0m, \u001b[38;5;34m32\u001b[0m, \u001b[38;5;34m32\u001b[0m, \u001b[38;5;34m32\u001b[0m)     │           \u001b[38;5;34m896\u001b[0m │\n",
       "├─────────────────────────────────┼────────────────────────┼───────────────┤\n",
       "│ max_pooling2d (\u001b[38;5;33mMaxPooling2D\u001b[0m)    │ (\u001b[38;5;45mNone\u001b[0m, \u001b[38;5;34m16\u001b[0m, \u001b[38;5;34m16\u001b[0m, \u001b[38;5;34m32\u001b[0m)     │             \u001b[38;5;34m0\u001b[0m │\n",
       "├─────────────────────────────────┼────────────────────────┼───────────────┤\n",
       "│ dropout (\u001b[38;5;33mDropout\u001b[0m)               │ (\u001b[38;5;45mNone\u001b[0m, \u001b[38;5;34m16\u001b[0m, \u001b[38;5;34m16\u001b[0m, \u001b[38;5;34m32\u001b[0m)     │             \u001b[38;5;34m0\u001b[0m │\n",
       "├─────────────────────────────────┼────────────────────────┼───────────────┤\n",
       "│ conv2d_1 (\u001b[38;5;33mConv2D\u001b[0m)               │ (\u001b[38;5;45mNone\u001b[0m, \u001b[38;5;34m16\u001b[0m, \u001b[38;5;34m16\u001b[0m, \u001b[38;5;34m64\u001b[0m)     │        \u001b[38;5;34m18,496\u001b[0m │\n",
       "├─────────────────────────────────┼────────────────────────┼───────────────┤\n",
       "│ max_pooling2d_1 (\u001b[38;5;33mMaxPooling2D\u001b[0m)  │ (\u001b[38;5;45mNone\u001b[0m, \u001b[38;5;34m8\u001b[0m, \u001b[38;5;34m8\u001b[0m, \u001b[38;5;34m64\u001b[0m)       │             \u001b[38;5;34m0\u001b[0m │\n",
       "├─────────────────────────────────┼────────────────────────┼───────────────┤\n",
       "│ dropout_1 (\u001b[38;5;33mDropout\u001b[0m)             │ (\u001b[38;5;45mNone\u001b[0m, \u001b[38;5;34m8\u001b[0m, \u001b[38;5;34m8\u001b[0m, \u001b[38;5;34m64\u001b[0m)       │             \u001b[38;5;34m0\u001b[0m │\n",
       "├─────────────────────────────────┼────────────────────────┼───────────────┤\n",
       "│ flatten (\u001b[38;5;33mFlatten\u001b[0m)               │ (\u001b[38;5;45mNone\u001b[0m, \u001b[38;5;34m4096\u001b[0m)           │             \u001b[38;5;34m0\u001b[0m │\n",
       "├─────────────────────────────────┼────────────────────────┼───────────────┤\n",
       "│ dense (\u001b[38;5;33mDense\u001b[0m)                   │ (\u001b[38;5;45mNone\u001b[0m, \u001b[38;5;34m128\u001b[0m)            │       \u001b[38;5;34m524,416\u001b[0m │\n",
       "├─────────────────────────────────┼────────────────────────┼───────────────┤\n",
       "│ dense_1 (\u001b[38;5;33mDense\u001b[0m)                 │ (\u001b[38;5;45mNone\u001b[0m, \u001b[38;5;34m6\u001b[0m)              │           \u001b[38;5;34m774\u001b[0m │\n",
       "└─────────────────────────────────┴────────────────────────┴───────────────┘\n"
      ]
     },
     "metadata": {},
     "output_type": "display_data"
    },
    {
     "data": {
      "text/html": [
       "<pre style=\"white-space:pre;overflow-x:auto;line-height:normal;font-family:Menlo,'DejaVu Sans Mono',consolas,'Courier New',monospace\"><span style=\"font-weight: bold\"> Total params: </span><span style=\"color: #00af00; text-decoration-color: #00af00\">544,582</span> (2.08 MB)\n",
       "</pre>\n"
      ],
      "text/plain": [
       "\u001b[1m Total params: \u001b[0m\u001b[38;5;34m544,582\u001b[0m (2.08 MB)\n"
      ]
     },
     "metadata": {},
     "output_type": "display_data"
    },
    {
     "data": {
      "text/html": [
       "<pre style=\"white-space:pre;overflow-x:auto;line-height:normal;font-family:Menlo,'DejaVu Sans Mono',consolas,'Courier New',monospace\"><span style=\"font-weight: bold\"> Trainable params: </span><span style=\"color: #00af00; text-decoration-color: #00af00\">544,582</span> (2.08 MB)\n",
       "</pre>\n"
      ],
      "text/plain": [
       "\u001b[1m Trainable params: \u001b[0m\u001b[38;5;34m544,582\u001b[0m (2.08 MB)\n"
      ]
     },
     "metadata": {},
     "output_type": "display_data"
    },
    {
     "data": {
      "text/html": [
       "<pre style=\"white-space:pre;overflow-x:auto;line-height:normal;font-family:Menlo,'DejaVu Sans Mono',consolas,'Courier New',monospace\"><span style=\"font-weight: bold\"> Non-trainable params: </span><span style=\"color: #00af00; text-decoration-color: #00af00\">0</span> (0.00 B)\n",
       "</pre>\n"
      ],
      "text/plain": [
       "\u001b[1m Non-trainable params: \u001b[0m\u001b[38;5;34m0\u001b[0m (0.00 B)\n"
      ]
     },
     "metadata": {},
     "output_type": "display_data"
    }
   ],
   "source": [
    "#Hacemos el summary\n",
    "model.summary()"
   ]
  },
  {
   "cell_type": "code",
   "execution_count": 29,
   "metadata": {},
   "outputs": [],
   "source": [
    "#Compilamos con:optimizer= 'adam', loss= \"sparse_categorical_crossentropy\", metrics=['accuracy']\n"
   ]
  },
  {
   "cell_type": "code",
   "execution_count": 30,
   "metadata": {},
   "outputs": [
    {
     "name": "stdout",
     "output_type": "stream",
     "text": [
      "Epoch 1/10\n",
      "\u001b[1m99/99\u001b[0m \u001b[32m━━━━━━━━━━━━━━━━━━━━\u001b[0m\u001b[37m\u001b[0m \u001b[1m4s\u001b[0m 32ms/step - accuracy: 0.4389 - loss: 1.4433 - val_accuracy: 0.5833 - val_loss: 1.0487\n",
      "Epoch 2/10\n",
      "\u001b[1m99/99\u001b[0m \u001b[32m━━━━━━━━━━━━━━━━━━━━\u001b[0m\u001b[37m\u001b[0m \u001b[1m3s\u001b[0m 29ms/step - accuracy: 0.6517 - loss: 0.9366 - val_accuracy: 0.6738 - val_loss: 0.8915\n",
      "Epoch 3/10\n",
      "\u001b[1m99/99\u001b[0m \u001b[32m━━━━━━━━━━━━━━━━━━━━\u001b[0m\u001b[37m\u001b[0m \u001b[1m3s\u001b[0m 29ms/step - accuracy: 0.6832 - loss: 0.8417 - val_accuracy: 0.7037 - val_loss: 0.8063\n",
      "Epoch 4/10\n",
      "\u001b[1m99/99\u001b[0m \u001b[32m━━━━━━━━━━━━━━━━━━━━\u001b[0m\u001b[37m\u001b[0m \u001b[1m3s\u001b[0m 29ms/step - accuracy: 0.7087 - loss: 0.7817 - val_accuracy: 0.7521 - val_loss: 0.7066\n",
      "Epoch 5/10\n",
      "\u001b[1m99/99\u001b[0m \u001b[32m━━━━━━━━━━━━━━━━━━━━\u001b[0m\u001b[37m\u001b[0m \u001b[1m3s\u001b[0m 29ms/step - accuracy: 0.7325 - loss: 0.7236 - val_accuracy: 0.7450 - val_loss: 0.7007\n",
      "Epoch 6/10\n",
      "\u001b[1m99/99\u001b[0m \u001b[32m━━━━━━━━━━━━━━━━━━━━\u001b[0m\u001b[37m\u001b[0m \u001b[1m3s\u001b[0m 29ms/step - accuracy: 0.7508 - loss: 0.6926 - val_accuracy: 0.7778 - val_loss: 0.6206\n",
      "Epoch 7/10\n",
      "\u001b[1m99/99\u001b[0m \u001b[32m━━━━━━━━━━━━━━━━━━━━\u001b[0m\u001b[37m\u001b[0m \u001b[1m3s\u001b[0m 30ms/step - accuracy: 0.7718 - loss: 0.6344 - val_accuracy: 0.7963 - val_loss: 0.6015\n",
      "Epoch 8/10\n",
      "\u001b[1m99/99\u001b[0m \u001b[32m━━━━━━━━━━━━━━━━━━━━\u001b[0m\u001b[37m\u001b[0m \u001b[1m3s\u001b[0m 29ms/step - accuracy: 0.7776 - loss: 0.6128 - val_accuracy: 0.7785 - val_loss: 0.6122\n",
      "Epoch 9/10\n",
      "\u001b[1m99/99\u001b[0m \u001b[32m━━━━━━━━━━━━━━━━━━━━\u001b[0m\u001b[37m\u001b[0m \u001b[1m3s\u001b[0m 29ms/step - accuracy: 0.7903 - loss: 0.5713 - val_accuracy: 0.7806 - val_loss: 0.6204\n",
      "Epoch 10/10\n",
      "\u001b[1m99/99\u001b[0m \u001b[32m━━━━━━━━━━━━━━━━━━━━\u001b[0m\u001b[37m\u001b[0m \u001b[1m3s\u001b[0m 29ms/step - accuracy: 0.8023 - loss: 0.5466 - val_accuracy: 0.8134 - val_loss: 0.5610\n"
     ]
    }
   ],
   "source": [
    "history = model.fit(\n",
    "    X_train_scal,\n",
    "    y_train,\n",
    "    batch_size = 128,\n",
    "    epochs = 10,\n",
    "    validation_split = 0.1\n",
    ")"
   ]
  },
  {
   "cell_type": "code",
   "execution_count": 31,
   "metadata": {},
   "outputs": [
    {
     "data": {
      "text/html": [
       "<div>\n",
       "<style scoped>\n",
       "    .dataframe tbody tr th:only-of-type {\n",
       "        vertical-align: middle;\n",
       "    }\n",
       "\n",
       "    .dataframe tbody tr th {\n",
       "        vertical-align: top;\n",
       "    }\n",
       "\n",
       "    .dataframe thead th {\n",
       "        text-align: right;\n",
       "    }\n",
       "</style>\n",
       "<table border=\"1\" class=\"dataframe\">\n",
       "  <thead>\n",
       "    <tr style=\"text-align: right;\">\n",
       "      <th></th>\n",
       "      <th>accuracy</th>\n",
       "      <th>loss</th>\n",
       "      <th>val_accuracy</th>\n",
       "      <th>val_loss</th>\n",
       "    </tr>\n",
       "  </thead>\n",
       "  <tbody>\n",
       "    <tr>\n",
       "      <th>0</th>\n",
       "      <td>0.536975</td>\n",
       "      <td>1.211259</td>\n",
       "      <td>0.583333</td>\n",
       "      <td>1.048747</td>\n",
       "    </tr>\n",
       "    <tr>\n",
       "      <th>1</th>\n",
       "      <td>0.659145</td>\n",
       "      <td>0.918474</td>\n",
       "      <td>0.673789</td>\n",
       "      <td>0.891474</td>\n",
       "    </tr>\n",
       "    <tr>\n",
       "      <th>2</th>\n",
       "      <td>0.686778</td>\n",
       "      <td>0.841395</td>\n",
       "      <td>0.703704</td>\n",
       "      <td>0.806310</td>\n",
       "    </tr>\n",
       "    <tr>\n",
       "      <th>3</th>\n",
       "      <td>0.717419</td>\n",
       "      <td>0.771555</td>\n",
       "      <td>0.752137</td>\n",
       "      <td>0.706580</td>\n",
       "    </tr>\n",
       "    <tr>\n",
       "      <th>4</th>\n",
       "      <td>0.733967</td>\n",
       "      <td>0.719658</td>\n",
       "      <td>0.745014</td>\n",
       "      <td>0.700716</td>\n",
       "    </tr>\n",
       "    <tr>\n",
       "      <th>5</th>\n",
       "      <td>0.756215</td>\n",
       "      <td>0.677499</td>\n",
       "      <td>0.777778</td>\n",
       "      <td>0.620609</td>\n",
       "    </tr>\n",
       "    <tr>\n",
       "      <th>6</th>\n",
       "      <td>0.769200</td>\n",
       "      <td>0.633634</td>\n",
       "      <td>0.796296</td>\n",
       "      <td>0.601525</td>\n",
       "    </tr>\n",
       "    <tr>\n",
       "      <th>7</th>\n",
       "      <td>0.780839</td>\n",
       "      <td>0.606716</td>\n",
       "      <td>0.778490</td>\n",
       "      <td>0.612166</td>\n",
       "    </tr>\n",
       "    <tr>\n",
       "      <th>8</th>\n",
       "      <td>0.788599</td>\n",
       "      <td>0.577147</td>\n",
       "      <td>0.780627</td>\n",
       "      <td>0.620358</td>\n",
       "    </tr>\n",
       "    <tr>\n",
       "      <th>9</th>\n",
       "      <td>0.799921</td>\n",
       "      <td>0.550172</td>\n",
       "      <td>0.813390</td>\n",
       "      <td>0.560979</td>\n",
       "    </tr>\n",
       "  </tbody>\n",
       "</table>\n",
       "</div>"
      ],
      "text/plain": [
       "   accuracy      loss  val_accuracy  val_loss\n",
       "0  0.536975  1.211259      0.583333  1.048747\n",
       "1  0.659145  0.918474      0.673789  0.891474\n",
       "2  0.686778  0.841395      0.703704  0.806310\n",
       "3  0.717419  0.771555      0.752137  0.706580\n",
       "4  0.733967  0.719658      0.745014  0.700716\n",
       "5  0.756215  0.677499      0.777778  0.620609\n",
       "6  0.769200  0.633634      0.796296  0.601525\n",
       "7  0.780839  0.606716      0.778490  0.612166\n",
       "8  0.788599  0.577147      0.780627  0.620358\n",
       "9  0.799921  0.550172      0.813390  0.560979"
      ]
     },
     "execution_count": 31,
     "metadata": {},
     "output_type": "execute_result"
    }
   ],
   "source": [
    "df_hist = pd.DataFrame(history.history)\n",
    "df_hist"
   ]
  },
  {
   "cell_type": "code",
   "execution_count": 32,
   "metadata": {},
   "outputs": [
    {
     "data": {
      "text/plain": [
       "<matplotlib.legend.Legend at 0x1db7fefece0>"
      ]
     },
     "execution_count": 32,
     "metadata": {},
     "output_type": "execute_result"
    },
    {
     "data": {
      "image/png": "[encoded data removed]",
      "text/plain": [
       "<Figure size 640x480 with 1 Axes>"
      ]
     },
     "metadata": {},
     "output_type": "display_data"
    }
   ],
   "source": [
    "plt.figure()\n",
    "plt.plot(df_hist['accuracy'], label=\"accuracy_train\")\n",
    "plt.plot(df_hist['val_accuracy'], label=\"accuracy_val\")\n",
    "plt.title(\"train_acc vs val_acc\")\n",
    "plt.ylabel(\"accuracy\")\n",
    "plt.xlabel(\"epochs\")\n",
    "plt.legend()"
   ]
  },
  {
   "cell_type": "code",
   "execution_count": 33,
   "metadata": {},
   "outputs": [
    {
     "data": {
      "text/plain": [
       "array([[[[0.59607843, 0.6745098 , 0.82352941],\n",
       "         [0.9372549 , 0.96078431, 0.98431373],\n",
       "         [0.91372549, 0.9372549 , 0.95686275],\n",
       "         ...,\n",
       "         [0.39607843, 0.54901961, 0.78823529],\n",
       "         [0.40392157, 0.56470588, 0.80392157],\n",
       "         [0.40392157, 0.56862745, 0.80392157]],\n",
       "\n",
       "        [[0.8627451 , 0.89411765, 0.93333333],\n",
       "         [0.90588235, 0.90980392, 0.93333333],\n",
       "         [0.94117647, 0.94117647, 0.95294118],\n",
       "         ...,\n",
       "         [0.35686275, 0.50196078, 0.71764706],\n",
       "         [0.36470588, 0.51372549, 0.74509804],\n",
       "         [0.36470588, 0.52156863, 0.75294118]],\n",
       "\n",
       "        [[0.8627451 , 0.88235294, 0.91764706],\n",
       "         [0.90588235, 0.92156863, 0.93333333],\n",
       "         [0.94117647, 0.94509804, 0.96078431],\n",
       "         ...,\n",
       "         [0.98823529, 0.98431373, 0.96862745],\n",
       "         [0.58823529, 0.65882353, 0.75294118],\n",
       "         [0.3372549 , 0.45490196, 0.63921569]],\n",
       "\n",
       "        ...,\n",
       "\n",
       "        [[0.82745098, 0.85882353, 0.90980392],\n",
       "         [0.8       , 0.82745098, 0.89019608],\n",
       "         [0.77647059, 0.80784314, 0.88235294],\n",
       "         ...,\n",
       "         [0.57647059, 0.60784314, 0.66666667],\n",
       "         [0.78823529, 0.81960784, 0.89411765],\n",
       "         [0.79607843, 0.83921569, 0.89803922]],\n",
       "\n",
       "        [[0.83137255, 0.8627451 , 0.91372549],\n",
       "         [0.81176471, 0.83921569, 0.90196078],\n",
       "         [0.77647059, 0.81568627, 0.88235294],\n",
       "         ...,\n",
       "         [0.23137255, 0.2627451 , 0.31372549],\n",
       "         [0.85098039, 0.87843137, 0.9372549 ],\n",
       "         [0.8627451 , 0.88627451, 0.9372549 ]],\n",
       "\n",
       "        [[0.77254902, 0.80784314, 0.8745098 ],\n",
       "         [0.77254902, 0.80784314, 0.8745098 ],\n",
       "         [0.79607843, 0.82745098, 0.90196078],\n",
       "         ...,\n",
       "         [0.04705882, 0.05490196, 0.11372549],\n",
       "         [0.85882353, 0.89411765, 0.9254902 ],\n",
       "         [0.87843137, 0.90196078, 0.94901961]]],\n",
       "\n",
       "\n",
       "       [[[0.42352941, 0.71372549, 0.85098039],\n",
       "         [0.42352941, 0.7254902 , 0.85490196],\n",
       "         [0.43529412, 0.73333333, 0.86666667],\n",
       "         ...,\n",
       "         [0.56078431, 0.6627451 , 0.62352941],\n",
       "         [0.24313725, 0.32941176, 0.37647059],\n",
       "         [0.0745098 , 0.18823529, 0.20392157]],\n",
       "\n",
       "        [[0.49411765, 0.77254902, 0.87058824],\n",
       "         [0.44313725, 0.7254902 , 0.85490196],\n",
       "         [0.44705882, 0.7254902 , 0.85882353],\n",
       "         ...,\n",
       "         [0.24705882, 0.35294118, 0.30196078],\n",
       "         [0.14509804, 0.24705882, 0.23529412],\n",
       "         [0.21176471, 0.32156863, 0.33333333]],\n",
       "\n",
       "        [[0.5372549 , 0.78039216, 0.8745098 ],\n",
       "         [0.56078431, 0.79607843, 0.88235294],\n",
       "         [0.58823529, 0.82352941, 0.89411765],\n",
       "         ...,\n",
       "         [0.10980392, 0.22745098, 0.2       ],\n",
       "         [0.0745098 , 0.15686275, 0.19215686],\n",
       "         [0.22352941, 0.32941176, 0.35294118]],\n",
       "\n",
       "        ...,\n",
       "\n",
       "        [[0.4627451 , 0.58039216, 0.57647059],\n",
       "         [0.44313725, 0.56470588, 0.54509804],\n",
       "         [0.4745098 , 0.6       , 0.57254902],\n",
       "         ...,\n",
       "         [0.55686275, 0.65882353, 0.59607843],\n",
       "         [0.57647059, 0.65490196, 0.57647059],\n",
       "         [0.58431373, 0.66666667, 0.61176471]],\n",
       "\n",
       "        [[0.46666667, 0.58431373, 0.57647059],\n",
       "         [0.4627451 , 0.58823529, 0.56862745],\n",
       "         [0.4745098 , 0.58823529, 0.56862745],\n",
       "         ...,\n",
       "         [0.48627451, 0.58431373, 0.56470588],\n",
       "         [0.49411765, 0.59607843, 0.55294118],\n",
       "         [0.49411765, 0.61176471, 0.57647059]],\n",
       "\n",
       "        [[0.48235294, 0.59607843, 0.58039216],\n",
       "         [0.47843137, 0.6       , 0.57647059],\n",
       "         [0.48627451, 0.60784314, 0.58823529],\n",
       "         ...,\n",
       "         [0.49411765, 0.6       , 0.58039216],\n",
       "         [0.48627451, 0.59215686, 0.57254902],\n",
       "         [0.47058824, 0.57647059, 0.54901961]]],\n",
       "\n",
       "\n",
       "       [[[0.85882353, 0.88235294, 0.9372549 ],\n",
       "         [0.86666667, 0.89019608, 0.94509804],\n",
       "         [0.87058824, 0.90196078, 0.95294118],\n",
       "         ...,\n",
       "         [0.83529412, 0.86666667, 0.91764706],\n",
       "         [0.85490196, 0.88627451, 0.94117647],\n",
       "         [0.88235294, 0.90588235, 0.96078431]],\n",
       "\n",
       "        [[0.83529412, 0.85882353, 0.91372549],\n",
       "         [0.84313725, 0.86666667, 0.92156863],\n",
       "         [0.84705882, 0.87058824, 0.9254902 ],\n",
       "         ...,\n",
       "         [0.85882353, 0.88235294, 0.93333333],\n",
       "         [0.8745098 , 0.89803922, 0.94509804],\n",
       "         [0.91372549, 0.9372549 , 0.98431373]],\n",
       "\n",
       "        [[0.85490196, 0.88627451, 0.9372549 ],\n",
       "         [0.83529412, 0.8627451 , 0.91372549],\n",
       "         [0.84313725, 0.86666667, 0.92156863],\n",
       "         ...,\n",
       "         [0.81568627, 0.83529412, 0.88235294],\n",
       "         [0.8745098 , 0.89803922, 0.94509804],\n",
       "         [0.90196078, 0.9254902 , 0.97254902]],\n",
       "\n",
       "        ...,\n",
       "\n",
       "        [[0.16470588, 0.10980392, 0.08627451],\n",
       "         [0.25098039, 0.18431373, 0.12941176],\n",
       "         [0.1372549 , 0.11764706, 0.0745098 ],\n",
       "         ...,\n",
       "         [0.01568627, 0.01568627, 0.01176471],\n",
       "         [0.06666667, 0.05490196, 0.01960784],\n",
       "         [0.25098039, 0.19215686, 0.10980392]],\n",
       "\n",
       "        [[0.19215686, 0.18823529, 0.12941176],\n",
       "         [0.50588235, 0.43529412, 0.36078431],\n",
       "         [0.17254902, 0.13333333, 0.11372549],\n",
       "         ...,\n",
       "         [0.01176471, 0.01176471, 0.00784314],\n",
       "         [0.03137255, 0.02745098, 0.01568627],\n",
       "         [0.22352941, 0.20392157, 0.16862745]],\n",
       "\n",
       "        [[0.25490196, 0.22352941, 0.18431373],\n",
       "         [0.50196078, 0.41568627, 0.31764706],\n",
       "         [0.2       , 0.17254902, 0.13333333],\n",
       "         ...,\n",
       "         [0.2       , 0.16470588, 0.12941176],\n",
       "         [0.09411765, 0.07058824, 0.03137255],\n",
       "         [0.14901961, 0.13333333, 0.09411765]]],\n",
       "\n",
       "\n",
       "       ...,\n",
       "\n",
       "\n",
       "       [[[0.05098039, 0.32156863, 0.62352941],\n",
       "         [0.05098039, 0.32156863, 0.62745098],\n",
       "         [0.04313725, 0.3254902 , 0.63137255],\n",
       "         ...,\n",
       "         [0.03137255, 0.35294118, 0.68235294],\n",
       "         [0.03137255, 0.35294118, 0.67843137],\n",
       "         [0.03529412, 0.35686275, 0.6745098 ]],\n",
       "\n",
       "        [[0.03921569, 0.3372549 , 0.64313725],\n",
       "         [0.04313725, 0.34117647, 0.64705882],\n",
       "         [0.04313725, 0.34509804, 0.65882353],\n",
       "         ...,\n",
       "         [0.03529412, 0.37254902, 0.71372549],\n",
       "         [0.03137255, 0.36862745, 0.70980392],\n",
       "         [0.03137255, 0.36862745, 0.70588235]],\n",
       "\n",
       "        [[0.04705882, 0.34901961, 0.67058824],\n",
       "         [0.04313725, 0.34901961, 0.67058824],\n",
       "         [0.03529412, 0.35294118, 0.67843137],\n",
       "         ...,\n",
       "         [0.03529412, 0.38431373, 0.7372549 ],\n",
       "         [0.03137255, 0.38039216, 0.73333333],\n",
       "         [0.03529412, 0.38431373, 0.7372549 ]],\n",
       "\n",
       "        ...,\n",
       "\n",
       "        [[0.03529412, 0.05882353, 0.10196078],\n",
       "         [0.03137255, 0.04705882, 0.08235294],\n",
       "         [0.05098039, 0.06666667, 0.10196078],\n",
       "         ...,\n",
       "         [0.02745098, 0.03529412, 0.02352941],\n",
       "         [0.02745098, 0.03137255, 0.02352941],\n",
       "         [0.03921569, 0.04705882, 0.03529412]],\n",
       "\n",
       "        [[0.03921569, 0.05098039, 0.07843137],\n",
       "         [0.05098039, 0.0627451 , 0.08235294],\n",
       "         [0.04313725, 0.05490196, 0.08235294],\n",
       "         ...,\n",
       "         [0.03529412, 0.04313725, 0.02745098],\n",
       "         [0.00784314, 0.03137255, 0.01176471],\n",
       "         [0.01960784, 0.04705882, 0.01960784]],\n",
       "\n",
       "        [[0.04313725, 0.05490196, 0.08235294],\n",
       "         [0.03921569, 0.05098039, 0.07843137],\n",
       "         [0.04313725, 0.05490196, 0.0745098 ],\n",
       "         ...,\n",
       "         [0.12941176, 0.16078431, 0.19215686],\n",
       "         [0.01176471, 0.03137255, 0.05098039],\n",
       "         [0.03921569, 0.04705882, 0.02745098]]],\n",
       "\n",
       "\n",
       "       [[[0.50980392, 0.62745098, 0.74509804],\n",
       "         [0.50196078, 0.62352941, 0.7372549 ],\n",
       "         [0.50588235, 0.62745098, 0.74117647],\n",
       "         ...,\n",
       "         [0.63529412, 0.65098039, 0.69803922],\n",
       "         [0.6627451 , 0.67058824, 0.69803922],\n",
       "         [0.74509804, 0.7372549 , 0.74901961]],\n",
       "\n",
       "        [[0.51764706, 0.63529412, 0.74509804],\n",
       "         [0.51372549, 0.63137255, 0.74117647],\n",
       "         [0.52156863, 0.63921569, 0.74901961],\n",
       "         ...,\n",
       "         [0.3254902 , 0.32156863, 0.34117647],\n",
       "         [0.33333333, 0.34509804, 0.34117647],\n",
       "         [0.54509804, 0.54509804, 0.55294118]],\n",
       "\n",
       "        [[0.5254902 , 0.64313725, 0.74509804],\n",
       "         [0.52941176, 0.64705882, 0.74901961],\n",
       "         [0.52941176, 0.64705882, 0.75686275],\n",
       "         ...,\n",
       "         [0.25490196, 0.25098039, 0.28235294],\n",
       "         [0.50196078, 0.50196078, 0.50980392],\n",
       "         [0.56078431, 0.56470588, 0.58039216]],\n",
       "\n",
       "        ...,\n",
       "\n",
       "        [[0.32156863, 0.36862745, 0.42352941],\n",
       "         [0.76078431, 0.80784314, 0.82745098],\n",
       "         [0.23137255, 0.2745098 , 0.27843137],\n",
       "         ...,\n",
       "         [0.34509804, 0.36078431, 0.37254902],\n",
       "         [0.42352941, 0.43137255, 0.41960784],\n",
       "         [0.38431373, 0.38431373, 0.37647059]],\n",
       "\n",
       "        [[0.14117647, 0.14117647, 0.18823529],\n",
       "         [0.05882353, 0.10588235, 0.16862745],\n",
       "         [0.58823529, 0.58431373, 0.60784314],\n",
       "         ...,\n",
       "         [0.44313725, 0.43921569, 0.41960784],\n",
       "         [0.43529412, 0.42352941, 0.44705882],\n",
       "         [0.50196078, 0.49411765, 0.49803922]],\n",
       "\n",
       "        [[0.11372549, 0.14901961, 0.21960784],\n",
       "         [0.10588235, 0.1372549 , 0.18039216],\n",
       "         [0.1372549 , 0.14509804, 0.16470588],\n",
       "         ...,\n",
       "         [0.43529412, 0.43529412, 0.43921569],\n",
       "         [0.50980392, 0.50588235, 0.49411765],\n",
       "         [0.35686275, 0.34901961, 0.35686275]]],\n",
       "\n",
       "\n",
       "       [[[0.08235294, 0.07058824, 0.05098039],\n",
       "         [0.10980392, 0.0745098 , 0.03921569],\n",
       "         [0.10980392, 0.0745098 , 0.04705882],\n",
       "         ...,\n",
       "         [0.04313725, 0.04705882, 0.0627451 ],\n",
       "         [0.05490196, 0.05882353, 0.0745098 ],\n",
       "         [0.0627451 , 0.05882353, 0.0745098 ]],\n",
       "\n",
       "        [[0.07843137, 0.07058824, 0.05098039],\n",
       "         [0.09803922, 0.07058824, 0.03921569],\n",
       "         [0.10196078, 0.06666667, 0.03137255],\n",
       "         ...,\n",
       "         [0.05490196, 0.05882353, 0.0745098 ],\n",
       "         [0.05882353, 0.0627451 , 0.07843137],\n",
       "         [0.07843137, 0.07843137, 0.08627451]],\n",
       "\n",
       "        [[0.10980392, 0.09803922, 0.07843137],\n",
       "         [0.08627451, 0.06666667, 0.04313725],\n",
       "         [0.09411765, 0.06666667, 0.04313725],\n",
       "         ...,\n",
       "         [0.06666667, 0.0627451 , 0.08235294],\n",
       "         [0.07058824, 0.07058824, 0.07843137],\n",
       "         [0.09803922, 0.09803922, 0.09411765]],\n",
       "\n",
       "        ...,\n",
       "\n",
       "        [[0.49411765, 0.42745098, 0.31372549],\n",
       "         [0.48235294, 0.38823529, 0.27843137],\n",
       "         [0.49019608, 0.40784314, 0.28235294],\n",
       "         ...,\n",
       "         [0.80784314, 0.73333333, 0.61568627],\n",
       "         [0.76862745, 0.68235294, 0.56470588],\n",
       "         [0.83137255, 0.74117647, 0.59607843]],\n",
       "\n",
       "        [[0.49803922, 0.43137255, 0.31372549],\n",
       "         [0.50980392, 0.41568627, 0.30196078],\n",
       "         [0.51764706, 0.42745098, 0.30588235],\n",
       "         ...,\n",
       "         [0.85882353, 0.78431373, 0.66666667],\n",
       "         [0.89803922, 0.83137255, 0.70980392],\n",
       "         [0.82745098, 0.7372549 , 0.60784314]],\n",
       "\n",
       "        [[0.48235294, 0.40784314, 0.30196078],\n",
       "         [0.50196078, 0.41176471, 0.29019608],\n",
       "         [0.5372549 , 0.44313725, 0.32941176],\n",
       "         ...,\n",
       "         [0.83529412, 0.74509804, 0.63529412],\n",
       "         [0.78823529, 0.70980392, 0.58431373],\n",
       "         [0.78431373, 0.69411765, 0.55686275]]]])"
      ]
     },
     "execution_count": 33,
     "metadata": {},
     "output_type": "execute_result"
    }
   ],
   "source": [
    "X_test_scal"
   ]
  },
  {
   "cell_type": "code",
   "execution_count": 34,
   "metadata": {},
   "outputs": [
    {
     "name": "stdout",
     "output_type": "stream",
     "text": [
      "\u001b[1m94/94\u001b[0m \u001b[32m━━━━━━━━━━━━━━━━━━━━\u001b[0m\u001b[37m\u001b[0m \u001b[1m0s\u001b[0m 4ms/step - accuracy: 0.7603 - loss: 0.6523\n"
     ]
    }
   ],
   "source": [
    "#Evaluamos el modelo con los datos escalados\n",
    "results = model.evaluate(X_test_scal, y_test)\n"
   ]
  },
  {
   "cell_type": "code",
   "execution_count": 35,
   "metadata": {},
   "outputs": [
    {
     "name": "stdout",
     "output_type": "stream",
     "text": [
      "\u001b[1m94/94\u001b[0m \u001b[32m━━━━━━━━━━━━━━━━━━━━\u001b[0m\u001b[37m\u001b[0m \u001b[1m0s\u001b[0m 4ms/step\n"
     ]
    },
    {
     "data": {
      "text/plain": [
       "array([[0.  , 0.  , 0.  , 0.98, 0.01, 0.  ],\n",
       "       [0.09, 0.41, 0.31, 0.09, 0.01, 0.08],\n",
       "       [0.01, 0.38, 0.  , 0.6 , 0.  , 0.  ],\n",
       "       ...,\n",
       "       [0.86, 0.  , 0.02, 0.02, 0.07, 0.03],\n",
       "       [0.24, 0.11, 0.05, 0.34, 0.26, 0.  ],\n",
       "       [0.  , 0.86, 0.  , 0.04, 0.  , 0.09]], dtype=float32)"
      ]
     },
     "execution_count": 35,
     "metadata": {},
     "output_type": "execute_result"
    }
   ],
   "source": [
    "#Predicciones\n",
    "predictions = model.predict(X_test_scal)\n",
    "predictions.round(2)"
   ]
  },
  {
   "cell_type": "code",
   "execution_count": 36,
   "metadata": {},
   "outputs": [
    {
     "data": {
      "text/plain": [
       "array([3, 1, 3, ..., 0, 3, 1], dtype=int64)"
      ]
     },
     "execution_count": 36,
     "metadata": {},
     "output_type": "execute_result"
    }
   ],
   "source": [
    "#buscar la prediccion buena\n",
    "pred_labels = np.argmax(predictions,axis=1)\n",
    "\n",
    "pred_labels"
   ]
  },
  {
   "cell_type": "code",
   "execution_count": 37,
   "metadata": {},
   "outputs": [
    {
     "data": {
      "text/plain": [
       "array([3, 1, 3, ..., 0, 3, 1], dtype=int64)"
      ]
     },
     "execution_count": 37,
     "metadata": {},
     "output_type": "execute_result"
    }
   ],
   "source": [
    "pred_labels # aquí vemos los resutlados de las predicciones, viendo solo el valor de la etiqueta a la que considera que corresponde"
   ]
  },
  {
   "cell_type": "code",
   "execution_count": 38,
   "metadata": {},
   "outputs": [
    {
     "name": "stdout",
     "output_type": "stream",
     "text": [
      "buildings\n"
     ]
    },
    {
     "data": {
      "image/png": "[encoded data removed]",
      "text/plain": [
       "<Figure size 640x480 with 1 Axes>"
      ]
     },
     "metadata": {},
     "output_type": "display_data"
    }
   ],
   "source": [
    "index=3\n",
    "print(class_names[y_test[index]])\n",
    "plt.imshow(X_test[index]);"
   ]
  },
  {
   "cell_type": "code",
   "execution_count": 39,
   "metadata": {},
   "outputs": [
    {
     "data": {
      "text/plain": [
       "'buildings'"
      ]
     },
     "execution_count": 39,
     "metadata": {},
     "output_type": "execute_result"
    }
   ],
   "source": [
    "#Sacamos el nombre de etiqueta de alguna prediccion\n",
    "class_names[pred_labels[index]]"
   ]
  },
  {
   "cell_type": "code",
   "execution_count": 40,
   "metadata": {},
   "outputs": [],
   "source": [
    "import seaborn as sns\n",
    "from sklearn.metrics import confusion_matrix"
   ]
  },
  {
   "cell_type": "code",
   "execution_count": 41,
   "metadata": {},
   "outputs": [
    {
     "data": {
      "text/plain": [
       "{'mountain': 0,\n",
       " 'street': 1,\n",
       " 'glacier': 2,\n",
       " 'buildings': 3,\n",
       " 'sea': 4,\n",
       " 'forest': 5}"
      ]
     },
     "execution_count": 41,
     "metadata": {},
     "output_type": "execute_result"
    }
   ],
   "source": [
    "class_names_label"
   ]
  },
  {
   "cell_type": "code",
   "execution_count": 49,
   "metadata": {},
   "outputs": [
    {
     "data": {
      "text/plain": [
       "array([[406,   3,  69,   8,  38,   1],\n",
       "       [  5, 414,  17,  50,  11,   4],\n",
       "       [ 65,   7, 438,   5,  37,   1],\n",
       "       [ 26,  66,  13, 304,  23,   5],\n",
       "       [ 42,   5,  63,  21, 378,   1],\n",
       "       [  2,  51,   5,  16,   2, 398]], dtype=int64)"
      ]
     },
     "execution_count": 49,
     "metadata": {},
     "output_type": "execute_result"
    }
   ],
   "source": [
    "#Hacemos una matriz de confusion para ver que tal el modelo\n",
    "confusion_matrix(y_test,pred_labels)"
   ]
  },
  {
   "cell_type": "code",
   "execution_count": 51,
   "metadata": {},
   "outputs": [
    {
     "data": {
      "text/plain": [
       "<Axes: >"
      ]
     },
     "execution_count": 51,
     "metadata": {},
     "output_type": "execute_result"
    },
    {
     "data": {
      "image/png": "[encoded data removed]",
      "text/plain": [
       "<Figure size 640x480 with 2 Axes>"
      ]
     },
     "metadata": {},
     "output_type": "display_data"
    }
   ],
   "source": [
    "#Hacemos un heatmap para verlo de coloritos la matriz\n",
    "sns.heatmap(confusion_matrix(y_test,pred_labels), annot = True)"
   ]
  },
  {
   "cell_type": "markdown",
   "metadata": {},
   "source": [
    "# Bonus track\n",
    "\n",
    "## Probad con diferentes modelos y diferentes tamaños de foto (cuidado con no pasaros de tamaño)"
   ]
  },
  {
   "cell_type": "code",
   "execution_count": null,
   "metadata": {},
   "outputs": [],
   "source": []
  }
 ],
 "metadata": {
  "interpreter": {
   "hash": "7c77fdb427e7cbc9bc1367dd530fc2b36aacdbbde1ac83c85833b10dfa8b831c"
  },
  "kernelspec": {
   "display_name": "Python 3.7.4 64-bit",
   "language": "python",
   "name": "python3"
  },
  "language_info": {
   "codemirror_mode": {
    "name": "ipython",
    "version": 3
   },
   "file_extension": ".py",
   "mimetype": "text/x-python",
   "name": "python",
   "nbconvert_exporter": "python",
   "pygments_lexer": "ipython3",
   "version": "3.10.14"
  },
  "orig_nbformat": 4
 },
 "nbformat": 4,
 "nbformat_minor": 2
}
