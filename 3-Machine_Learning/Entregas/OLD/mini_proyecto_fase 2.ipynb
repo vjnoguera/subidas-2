{
 "cells": [
  {
   "cell_type": "code",
   "execution_count": 1,
   "metadata": {},
   "outputs": [],
   "source": [
    "import numpy as np\n",
    "import matplotlib.pyplot as plt\n",
    "import seaborn as sns\n",
    "import pandas as pd\n"
   ]
  },
  {
   "cell_type": "code",
   "execution_count": 2,
   "metadata": {},
   "outputs": [],
   "source": [
    "X = np.array([ 3,  5,  6,  4, 11, 11, 10, 13, 15, 16, 20, 24, 27, 25, 30, 33, 36,\n",
    "       37, 36, 41, 42, 42, 47, 49, 50, 48, 50, 55, 59, 60, 59, 64, 64, 67,\n",
    "       70, 71, 71, 76, 76, 81, 84, 81, 83, 89, 90, 89, 90, 93, 99, 96])"
   ]
  },
  {
   "cell_type": "code",
   "execution_count": 3,
   "metadata": {},
   "outputs": [
    {
     "data": {
      "text/plain": [
       "array([ 3,  5,  6,  4, 11, 11, 10, 13, 15, 16, 20, 24, 27, 25, 30, 33, 36,\n",
       "       37, 36, 41, 42, 42, 47, 49, 50, 48, 50, 55, 59, 60, 59, 64, 64, 67,\n",
       "       70, 71, 71, 76, 76, 81, 84, 81, 83, 89, 90, 89, 90, 93, 99, 96])"
      ]
     },
     "execution_count": 3,
     "metadata": {},
     "output_type": "execute_result"
    }
   ],
   "source": [
    "X"
   ]
  },
  {
   "cell_type": "code",
   "execution_count": 4,
   "metadata": {},
   "outputs": [],
   "source": [
    "Y = 1 + 2* X +np.array([ 3,  3,  5,  8, 10, 14, 11, 15, 18, 20, 23, 22, 27, 25, 30, 29, 36,\n",
    "       34, 36, 42, 38, 40, 48, 49, 50, 54, 56, 56, 55, 62, 64, 64, 66, 64,\n",
    "       71, 73, 70, 76, 74, 76, 82, 81, 87, 90, 87, 92, 95, 95, 96, 98])"
   ]
  },
  {
   "cell_type": "code",
   "execution_count": 5,
   "metadata": {},
   "outputs": [
    {
     "data": {
      "text/plain": [
       "array([ 10,  14,  18,  17,  33,  37,  32,  42,  49,  53,  64,  71,  82,\n",
       "        76,  91,  96, 109, 109, 109, 125, 123, 125, 143, 148, 151, 151,\n",
       "       157, 167, 174, 183, 183, 193, 195, 199, 212, 216, 213, 229, 227,\n",
       "       239, 251, 244, 254, 269, 268, 271, 276, 282, 295, 291])"
      ]
     },
     "execution_count": 5,
     "metadata": {},
     "output_type": "execute_result"
    }
   ],
   "source": [
    "Y"
   ]
  },
  {
   "cell_type": "code",
   "execution_count": 6,
   "metadata": {},
   "outputs": [
    {
     "data": {
      "text/plain": [
       "array([[ 1.,  3.],\n",
       "       [ 1.,  5.],\n",
       "       [ 1.,  6.],\n",
       "       [ 1.,  4.],\n",
       "       [ 1., 11.],\n",
       "       [ 1., 11.],\n",
       "       [ 1., 10.],\n",
       "       [ 1., 13.],\n",
       "       [ 1., 15.],\n",
       "       [ 1., 16.],\n",
       "       [ 1., 20.],\n",
       "       [ 1., 24.],\n",
       "       [ 1., 27.],\n",
       "       [ 1., 25.],\n",
       "       [ 1., 30.],\n",
       "       [ 1., 33.],\n",
       "       [ 1., 36.],\n",
       "       [ 1., 37.],\n",
       "       [ 1., 36.],\n",
       "       [ 1., 41.],\n",
       "       [ 1., 42.],\n",
       "       [ 1., 42.],\n",
       "       [ 1., 47.],\n",
       "       [ 1., 49.],\n",
       "       [ 1., 50.],\n",
       "       [ 1., 48.],\n",
       "       [ 1., 50.],\n",
       "       [ 1., 55.],\n",
       "       [ 1., 59.],\n",
       "       [ 1., 60.],\n",
       "       [ 1., 59.],\n",
       "       [ 1., 64.],\n",
       "       [ 1., 64.],\n",
       "       [ 1., 67.],\n",
       "       [ 1., 70.],\n",
       "       [ 1., 71.],\n",
       "       [ 1., 71.],\n",
       "       [ 1., 76.],\n",
       "       [ 1., 76.],\n",
       "       [ 1., 81.],\n",
       "       [ 1., 84.],\n",
       "       [ 1., 81.],\n",
       "       [ 1., 83.],\n",
       "       [ 1., 89.],\n",
       "       [ 1., 90.],\n",
       "       [ 1., 89.],\n",
       "       [ 1., 90.],\n",
       "       [ 1., 93.],\n",
       "       [ 1., 99.],\n",
       "       [ 1., 96.]])"
      ]
     },
     "execution_count": 6,
     "metadata": {},
     "output_type": "execute_result"
    }
   ],
   "source": [
    "X_1 = np.c_[np.ones((50, 1)), X]\n",
    "X_1\n",
    "\n"
   ]
  },
  {
   "cell_type": "code",
   "execution_count": 7,
   "metadata": {},
   "outputs": [
    {
     "data": {
      "text/plain": [
       "array([1.69807106, 2.99483445])"
      ]
     },
     "execution_count": 7,
     "metadata": {},
     "output_type": "execute_result"
    }
   ],
   "source": [
    "best_W = np.linalg.inv(X_1.T.dot(X_1)).dot(X_1.T).dot(Y)\n",
    "best_W"
   ]
  },
  {
   "cell_type": "code",
   "execution_count": 27,
   "metadata": {},
   "outputs": [],
   "source": [
    "# from IPython.display import clear_output\n",
    "# m = 0\n",
    "# c = 0\n",
    "# lr = 0.00001\n",
    "# # y = m*+c\n",
    "# error = sum((y - (m*X + c))**2)/len(Y)\n",
    "# for n in range(200):\n",
    "#     clear_output(wait=True)\n",
    "#     # y = m*X+c\n",
    "   \n",
    "#     dm = 2/len(Y)*sum((Y-(m*X+c))*(-X))\n",
    "#     dc = 2/len(Y)*sum((Y-(m*X+c))*(-1))\n",
    "#     m=m-dm*lr\n",
    "#     c=c-dc*lr\n",
    "#     fig =plt.figure()\n",
    "#     plt.scatter(x = X, y = Y)\n",
    "#     plt.plot(X, m*X+c,\"r\")\n",
    "#     plt.title(f\"iter: {n}, error:{sum((Y - (m*X + c))**2)/len(Y)},m: {m}, c: {c}\" )\n",
    "#     plt.show()"
   ]
  },
  {
   "cell_type": "code",
   "execution_count": 11,
   "metadata": {},
   "outputs": [
    {
     "data": {
      "text/plain": [
       "-38644.59430374436"
      ]
     },
     "execution_count": 11,
     "metadata": {},
     "output_type": "execute_result"
    }
   ],
   "source": [
    "dm"
   ]
  },
  {
   "cell_type": "code",
   "execution_count": 12,
   "metadata": {},
   "outputs": [
    {
     "data": {
      "text/plain": [
       "-582.1929269659714"
      ]
     },
     "execution_count": 12,
     "metadata": {},
     "output_type": "execute_result"
    }
   ],
   "source": [
    "dc"
   ]
  },
  {
   "cell_type": "code",
   "execution_count": null,
   "metadata": {},
   "outputs": [],
   "source": []
  }
 ],
 "metadata": {
  "kernelspec": {
   "display_name": "ML_ENV",
   "language": "python",
   "name": "python3"
  },
  "language_info": {
   "codemirror_mode": {
    "name": "ipython",
    "version": 3
   },
   "file_extension": ".py",
   "mimetype": "text/x-python",
   "name": "python",
   "nbconvert_exporter": "python",
   "pygments_lexer": "ipython3",
   "version": "3.10.14"
  }
 },
 "nbformat": 4,
 "nbformat_minor": 2
}
